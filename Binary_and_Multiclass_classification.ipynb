{
  "cells": [
    {
      "cell_type": "markdown",
      "metadata": {
        "collapsed": false,
        "id": "XDDbguyGU8Fs"
      },
      "source": [
        "# Basics of deep learning - Binary and Multiclass classification\n",
        "\n",
        "By Etai Zilberman, Bra Ara"
      ]
    },
    {
      "cell_type": "markdown",
      "metadata": {
        "id": "JLkWLC8f3HZI"
      },
      "source": [
        "## Sign Language Digits With PyTorch\n",
        "Sign Language Digits dataset contains 5,000 grayscale images in 10 categories. The images show individual articles of hand sign at low resolution (28 by 28 pixels), as seen here:\n",
        "\n",
        "<table>\n",
        "  <tr><td>\n",
        "    <img src=\"https://www.researchgate.net/publication/344389112/figure/fig8/AS:941467451260937@1601474740275/Sample-images-from-ASL-with-digits-dataset.png\"\n",
        "         alt=\"Fashion MNIST sprite\"  width=\"600\">\n",
        "  </td></tr>\n",
        "  \n",
        "</table>\n",
        "\n"
      ]
    },
    {
      "cell_type": "markdown",
      "metadata": {
        "id": "WiRxNFCn3Vxd"
      },
      "source": [
        "\n",
        "\n",
        "The images are 28x28 NumPy arrays, with pixel values ranging between 0 and 255. The *labels* are an array of numbers ranging from '0' to '9'. These correspond to the *class* of hand sign digit the image represents:\n",
        "\n",
        "<table>\n",
        "  <tr>\n",
        "    <th>Label</th>\n",
        "    <th>Class</th>\n",
        "  </tr>\n",
        "  <tr>\n",
        "    <td>0</td>\n",
        "    <td>Hand Sign Zero</td>\n",
        "  </tr>\n",
        "  <tr>\n",
        "    <td>1</td>\n",
        "    <td>Hand Sign One</td>\n",
        "  </tr>\n",
        "    <tr>\n",
        "    <td>2</td>\n",
        "    <td>Hand Sign Two</td>\n",
        "  </tr>\n",
        "    <tr>\n",
        "    <td>3</td>\n",
        "    <td>Hand Sign Three</td>\n",
        "  </tr>\n",
        "    <tr>\n",
        "    <td>4</td>\n",
        "    <td>Hand Sign Four</td>\n",
        "  </tr>\n",
        "    <tr>\n",
        "    <td>5</td>\n",
        "    <td>Hand Sign Five</td>\n",
        "  </tr>\n",
        "    <tr>\n",
        "    <td>6</td>\n",
        "    <td>Hand Sign Six</td>\n",
        "  </tr>\n",
        "    <tr>\n",
        "    <td>7</td>\n",
        "    <td>Hand Sign Seven</td>\n",
        "  </tr>\n",
        "    <tr>\n",
        "    <td>8</td>\n",
        "    <td>Hand Sign Eight</td>\n",
        "  </tr>\n",
        "    <tr>\n",
        "    <td>9</td>\n",
        "    <td>Hand Sign Nine</td>\n",
        "  </tr>\n",
        "</table>\n"
      ]
    },
    {
      "cell_type": "markdown",
      "metadata": {
        "collapsed": false,
        "id": "EU8d54pEU8GF"
      },
      "source": [
        "# Neural Network with PyTorch part 1 (Binary Classification)"
      ]
    },
    {
      "cell_type": "markdown",
      "metadata": {
        "id": "UPCSaccR32De"
      },
      "source": [
        "## Import Libraries"
      ]
    },
    {
      "cell_type": "code",
      "execution_count": null,
      "metadata": {
        "id": "RyvoZdAXU8GG",
        "colab": {
          "base_uri": "https://localhost:8080/"
        },
        "outputId": "5c410da0-c485-4870-88e3-555f3954256e"
      },
      "outputs": [
        {
          "output_type": "stream",
          "name": "stdout",
          "text": [
            "time: 953 µs (started: 2025-01-18 15:43:32 +00:00)\n"
          ]
        }
      ],
      "source": [
        "import os\n",
        "os.environ['CUDA_LAUNCH_BLOCKING'] = '1'\n",
        "os.environ[\"TORCH_USE_CUDA_DSA\"] = 'TRUE'\n",
        "os.environ[\"KMP_DUPLICATE_LIB_OK\"]=\"TRUE\"\n",
        "\n",
        "import torch\n",
        "import matplotlib.pyplot as plt\n",
        "from sklearn.model_selection import train_test_split\n",
        "import numpy as np\n",
        "import time\n",
        "start = time.time()"
      ]
    },
    {
      "cell_type": "markdown",
      "metadata": {
        "id": "Q1WPjPPR6Wpr"
      },
      "source": [
        "## Download Dataset"
      ]
    },
    {
      "cell_type": "code",
      "execution_count": null,
      "metadata": {
        "id": "qYIWd939wMK8",
        "colab": {
          "base_uri": "https://localhost:8080/"
        },
        "outputId": "ecfa354e-7134-462b-c343-b7b93d8c3dc7"
      },
      "outputs": [
        {
          "output_type": "stream",
          "name": "stdout",
          "text": [
            "time: 8.94 s (started: 2025-01-18 15:43:33 +00:00)\n"
          ]
        }
      ],
      "source": [
        "%%script echo skipping\n",
        "%%capture\n",
        "!pip install ipython-autotime\n",
        "!pip install -U --no-cache-dir gdown --pre\n",
        "!gdown --id 1-0fhqH8tXKPb60C_b4aUHT7f-J4O6Ezq\n",
        "%load_ext autotime"
      ]
    },
    {
      "cell_type": "markdown",
      "metadata": {
        "id": "nH0FZfKXwN4X"
      },
      "source": [
        "Loading the dataset as NumPy arrays:\n",
        "\n",
        "* The `dataset` file is a NumPy array containing the image pixles. As you can see, it includes 5,000 rows for each image and 784 columns for each pixel in the image (28x28).\n",
        "* The `labels` file is a NumPy array containing the images labels. As you can see, it includes 5,000 rows for each image corresponding to the dataset."
      ]
    },
    {
      "cell_type": "code",
      "execution_count": null,
      "metadata": {
        "id": "UCcGPAXvwX5j",
        "colab": {
          "base_uri": "https://localhost:8080/"
        },
        "outputId": "82b5a101-7bb6-4333-b147-1762d774261e"
      },
      "outputs": [
        {
          "output_type": "stream",
          "name": "stdout",
          "text": [
            "Dataset shape: (5000, 784)\n",
            "Labels shape: (5000,)\n",
            "time: 48.4 ms (started: 2025-01-18 15:43:42 +00:00)\n"
          ]
        }
      ],
      "source": [
        "%%script echo skipping\n",
        "loaded_data = np.load('/content/dataset_labels.npz')\n",
        "X, y = loaded_data['dataset'], loaded_data['labels']\n",
        "print(f'Dataset shape: {X.shape}\\nLabels shape: {y.shape}')"
      ]
    },
    {
      "cell_type": "markdown",
      "source": [
        "Loading a random sample for testing"
      ],
      "metadata": {
        "id": "8KMian_qOb7c"
      }
    },
    {
      "cell_type": "code",
      "execution_count": null,
      "metadata": {
        "id": "QKBgm5ExxFik",
        "colab": {
          "base_uri": "https://localhost:8080/",
          "height": 311
        },
        "outputId": "7b12182f-6690-4a43-955e-2b2e460b16c9"
      },
      "outputs": [
        {
          "output_type": "display_data",
          "data": {
            "text/plain": [
              "<Figure size 300x300 with 1 Axes>"
            ],
            "image/png": "[encoded data removed]"
          },
          "metadata": {}
        },
        {
          "output_type": "stream",
          "name": "stdout",
          "text": [
            "time: 108 ms (started: 2025-01-18 15:43:42 +00:00)\n"
          ]
        }
      ],
      "source": [
        "%%script echo skipping\n",
        "plt.figure(figsize=(3, 3))\n",
        "plt.imshow(X[1000].reshape(28,28), cmap='gray')\n",
        "plt.show()"
      ]
    },
    {
      "cell_type": "markdown",
      "metadata": {
        "id": "FEzqUS-agI4w"
      },
      "source": [
        "##Define device - Cuda or CPU\n"
      ]
    },
    {
      "cell_type": "code",
      "execution_count": null,
      "metadata": {
        "id": "Px4QBs7-gE6d",
        "colab": {
          "base_uri": "https://localhost:8080/"
        },
        "outputId": "ce12cabe-a406-4179-cdd7-20a6ede0e731"
      },
      "outputs": [
        {
          "output_type": "stream",
          "name": "stdout",
          "text": [
            "True\n",
            "cuda\n",
            "time: 5.99 ms (started: 2025-01-18 15:43:42 +00:00)\n"
          ]
        }
      ],
      "source": [
        "%%script echo skipping\n",
        "device = torch.device(\"cuda\" if torch.cuda.is_available() else \"cpu\")\n",
        "print(torch.cuda.is_available())\n",
        "print(device)"
      ]
    },
    {
      "cell_type": "markdown",
      "metadata": {
        "collapsed": false,
        "id": "6Sm0udbSU8GG"
      },
      "source": [
        "## Data preprocessing\n"
      ]
    },
    {
      "cell_type": "markdown",
      "metadata": {
        "collapsed": false,
        "id": "ZZAUfLmVU8GH"
      },
      "source": [
        "### Feature scaling"
      ]
    },
    {
      "cell_type": "code",
      "execution_count": null,
      "metadata": {
        "id": "hzqQphx7U8GH",
        "colab": {
          "base_uri": "https://localhost:8080/"
        },
        "outputId": "3eab047d-1030-41a4-8649-bae312d9921b"
      },
      "outputs": [
        {
          "output_type": "execute_result",
          "data": {
            "text/plain": [
              "(5000, 784)"
            ]
          },
          "metadata": {},
          "execution_count": 89
        },
        {
          "output_type": "stream",
          "name": "stdout",
          "text": [
            "time: 17.9 ms (started: 2025-01-18 15:43:42 +00:00)\n"
          ]
        }
      ],
      "source": [
        "%%script echo skipping\n",
        "X = X /255\n",
        "examples = y.shape[0]\n",
        "Y = y.reshape(1, examples)\n",
        "X.shape"
      ]
    },
    {
      "cell_type": "markdown",
      "metadata": {
        "id": "YSzvJ196GkvO"
      },
      "source": [
        "### Selecting two classes"
      ]
    },
    {
      "cell_type": "code",
      "execution_count": null,
      "metadata": {
        "id": "yjpHGlrmGlbe",
        "colab": {
          "base_uri": "https://localhost:8080/"
        },
        "outputId": "1c352e77-e10e-4bfe-c787-1d0132ed8ecb"
      },
      "outputs": [
        {
          "output_type": "stream",
          "name": "stdout",
          "text": [
            "time: 337 µs (started: 2025-01-18 15:43:42 +00:00)\n"
          ]
        }
      ],
      "source": [
        "%%script echo skipping\n",
        "classes = [\"7\", \"8\"]"
      ]
    },
    {
      "cell_type": "markdown",
      "metadata": {
        "collapsed": false,
        "id": "FlCtN7Y-U8GH"
      },
      "source": [
        "###Preprocessing the data"
      ]
    },
    {
      "cell_type": "code",
      "execution_count": null,
      "metadata": {
        "id": "PrJ6v0ACU8GI",
        "colab": {
          "base_uri": "https://localhost:8080/"
        },
        "outputId": "7c4eae5e-8c24-49d5-800b-83f4fbd629ee"
      },
      "outputs": [
        {
          "output_type": "stream",
          "name": "stdout",
          "text": [
            "X_train shape: (800, 784), y_train shape: (800,)\n",
            "X_test shape: (200, 784), y_test shape: (200,)\n",
            "time: 11 ms (started: 2025-01-18 15:43:42 +00:00)\n"
          ]
        }
      ],
      "source": [
        "%%script echo skipping\n",
        "from torch.utils.data import DataLoader, RandomSampler, TensorDataset\n",
        "from sklearn.model_selection import train_test_split\n",
        "\n",
        "class_mask = np.isin(y, classes)\n",
        "filtered_X = X[class_mask]\n",
        "filtered_y = y[class_mask]\n",
        "\n",
        "binary_y = np.where(filtered_y == classes[0], 0, 1)\n",
        "\n",
        "X_train, X_test, y_train, y_test = train_test_split(filtered_X, binary_y, test_size=0.2, random_state=42, stratify=binary_y)\n",
        "print(f\"X_train shape: {X_train.shape}, y_train shape: {y_train.shape}\")\n",
        "print(f\"X_test shape: {X_test.shape}, y_test shape: {y_test.shape}\")\n",
        "\n",
        "X_train_tensor = torch.tensor(X_train, dtype=torch.float32).to(device)\n",
        "X_test_tensor = torch.tensor(X_test, dtype=torch.float32).to(device)\n",
        "y_train_tensor = torch.tensor(y_train, dtype=torch.float32).to(device)\n",
        "y_test_tensor = torch.tensor(y_test, dtype=torch.float32).to(device)\n",
        "\n",
        "train_dataset = TensorDataset(X_train_tensor, y_train_tensor)\n",
        "train_sampler = RandomSampler(train_dataset)\n",
        "train_loader = DataLoader(train_dataset, sampler=train_sampler, batch_size=64)\n",
        "\n",
        "test_dataset = TensorDataset(X_test_tensor, y_test_tensor)\n",
        "test_sampler = RandomSampler(test_dataset)\n",
        "test_loader = DataLoader(test_dataset, batch_size=64)\n"
      ]
    },
    {
      "cell_type": "markdown",
      "metadata": {
        "id": "DDAiIiD0YiwM"
      },
      "source": [
        "#### Generate a random sample with data loader for testing"
      ]
    },
    {
      "cell_type": "code",
      "execution_count": null,
      "metadata": {
        "id": "-6t8bgBZX27H",
        "colab": {
          "base_uri": "https://localhost:8080/",
          "height": 332
        },
        "outputId": "94b6964d-13a9-4e7c-b683-729630b22e6e"
      },
      "outputs": [
        {
          "output_type": "display_data",
          "data": {
            "text/plain": [
              "<Figure size 300x300 with 1 Axes>"
            ],
            "image/png": "[encoded data removed]"
          },
          "metadata": {}
        },
        {
          "output_type": "stream",
          "name": "stdout",
          "text": [
            "time: 115 ms (started: 2025-01-18 15:43:42 +00:00)\n"
          ]
        }
      ],
      "source": [
        "%%script echo skipping\n",
        "import random\n",
        "# Get a random batch from the train_loader\n",
        "dataiter = iter(train_loader)\n",
        "images, labels = next(dataiter)\n",
        "\n",
        "# Choose a random image from the batch\n",
        "index = random.randint(0, images.shape[0]-1)\n",
        "image = images[index].cpu().numpy().reshape(28, 28)\n",
        "label = int(labels[index].cpu().numpy())\n",
        "\n",
        "\n",
        "plt.figure(figsize=(3, 3))\n",
        "plt.imshow(image, cmap='gray')\n",
        "plt.title(f\"Label: {label}\")\n",
        "plt.show()"
      ]
    },
    {
      "cell_type": "markdown",
      "metadata": {
        "collapsed": false,
        "id": "jwIzE9kSU8GI"
      },
      "source": [
        "### The network\n"
      ]
    },
    {
      "cell_type": "markdown",
      "source": [
        "We use `BCEWithLogitsLoss()` as the loss function so we kept the output value as it is (without using any activation function like sigmoid at the end of the net)"
      ],
      "metadata": {
        "id": "EquMNlDQQErT"
      }
    },
    {
      "cell_type": "code",
      "execution_count": null,
      "metadata": {
        "id": "U3IepEv6U8GI",
        "colab": {
          "base_uri": "https://localhost:8080/"
        },
        "outputId": "5db9bf25-7515-4f53-f3de-66a5982ed445"
      },
      "outputs": [
        {
          "output_type": "stream",
          "name": "stdout",
          "text": [
            "time: 1.63 ms (started: 2025-01-18 15:43:42 +00:00)\n"
          ]
        }
      ],
      "source": [
        "%%script echo skipping\n",
        "from torch import nn\n",
        "import torch.nn.functional as F\n",
        "\n",
        "class NeuralNetwork(nn.Module):\n",
        "  def __init__(self, size_list):\n",
        "    super(NeuralNetwork, self).__init__()\n",
        "    layers = []\n",
        "    self.size_list = size_list\n",
        "    for i in range(len(size_list) - 2):\n",
        "        layers.append(nn.Linear(size_list[i], size_list[i+1]))\n",
        "        layers.append(nn.ReLU())\n",
        "    layers.append(nn.Linear(size_list[-2], size_list[-1]))\n",
        "    self.net = nn.Sequential(*layers)\n",
        "\n",
        "  def forward(self, x):\n",
        "    return self.net(x)"
      ]
    },
    {
      "cell_type": "markdown",
      "source": [
        "784 pixles of a picture as an input layer, one hidden layer, single desicion-neuron"
      ],
      "metadata": {
        "id": "GSSl5Y2jPn2y"
      }
    },
    {
      "cell_type": "code",
      "execution_count": null,
      "metadata": {
        "id": "vHnOoE6QeJdX",
        "colab": {
          "base_uri": "https://localhost:8080/"
        },
        "outputId": "9a246a32-bee6-4941-9a75-45d8d030e940"
      },
      "outputs": [
        {
          "output_type": "stream",
          "name": "stdout",
          "text": [
            "NeuralNetwork(\n",
            "  (net): Sequential(\n",
            "    (0): Linear(in_features=784, out_features=64, bias=True)\n",
            "    (1): ReLU()\n",
            "    (2): Linear(in_features=64, out_features=1, bias=True)\n",
            "  )\n",
            ")\n",
            "time: 2.63 ms (started: 2025-01-18 15:43:42 +00:00)\n"
          ]
        }
      ],
      "source": [
        "%%script echo skipping\n",
        "model = NeuralNetwork([28*28, 64, 1]).to(device)\n",
        "\n",
        "print(model)"
      ]
    },
    {
      "cell_type": "markdown",
      "metadata": {
        "collapsed": false,
        "id": "VH6cuNVOU8GJ"
      },
      "source": [
        "### The Optimizer\n"
      ]
    },
    {
      "cell_type": "markdown",
      "source": [
        "We chose the Adam optimizer"
      ],
      "metadata": {
        "id": "DExyueVHQbsY"
      }
    },
    {
      "cell_type": "code",
      "execution_count": null,
      "metadata": {
        "id": "2Xndbe19U8GJ",
        "colab": {
          "base_uri": "https://localhost:8080/"
        },
        "outputId": "ccfacf2d-66b8-4968-bee4-fb600d7f73bd"
      },
      "outputs": [
        {
          "output_type": "stream",
          "name": "stdout",
          "text": [
            "time: 375 µs (started: 2025-01-18 15:43:42 +00:00)\n"
          ]
        }
      ],
      "source": [
        "%%script echo skipping\n",
        "from torch import optim\n",
        "optimizer = optim.Adam(model.parameters())"
      ]
    },
    {
      "cell_type": "markdown",
      "metadata": {
        "id": "4s2veabTeUpD"
      },
      "source": [
        "### Loss Function\n"
      ]
    },
    {
      "cell_type": "markdown",
      "source": [
        "Binary - Cross - Entropy with logits"
      ],
      "metadata": {
        "id": "444w8COlQl_i"
      }
    },
    {
      "cell_type": "code",
      "execution_count": null,
      "metadata": {
        "id": "5G3Dx5vueVG9",
        "colab": {
          "base_uri": "https://localhost:8080/"
        },
        "outputId": "31215666-4210-4700-8e12-9dae47df8c40"
      },
      "outputs": [
        {
          "output_type": "stream",
          "name": "stdout",
          "text": [
            "time: 252 µs (started: 2025-01-18 15:43:42 +00:00)\n"
          ]
        }
      ],
      "source": [
        "%%script echo skipping\n",
        "loss = nn.BCEWithLogitsLoss()"
      ]
    },
    {
      "cell_type": "markdown",
      "metadata": {
        "collapsed": false,
        "id": "c7kXhHkoU8GJ"
      },
      "source": [
        "### Training\n"
      ]
    },
    {
      "cell_type": "code",
      "execution_count": null,
      "metadata": {
        "id": "DvU8GkYVgZSh",
        "colab": {
          "base_uri": "https://localhost:8080/"
        },
        "outputId": "dc858cfb-35d8-4117-c287-9969861787c1"
      },
      "outputs": [
        {
          "output_type": "stream",
          "name": "stdout",
          "text": [
            "time: 936 µs (started: 2025-01-18 15:43:42 +00:00)\n"
          ]
        }
      ],
      "source": [
        "%%script echo skipping\n",
        "# Train epoch function\n",
        "import time\n",
        "def train_epoch(model, train_loader, criterion, optimizer):\n",
        "    model.train()\n",
        "    running_loss = 0.0\n",
        "    correct_predictions = 0\n",
        "    total_predictions = 0\n",
        "    start_time = time.time()\n",
        "\n",
        "    for batch_idx, (data, target) in enumerate(train_loader):\n",
        "        target = target.view(-1, 1).float()\n",
        "        optimizer.zero_grad()\n",
        "        output = model(data)\n",
        "        loss = criterion(output, target)\n",
        "        running_loss += loss.item()\n",
        "        loss.backward()\n",
        "        optimizer.step()\n",
        "\n",
        "        # Calculate accuracy for this batch\n",
        "        predicted = (output > 0.5).float()\n",
        "        correct_predictions += (predicted == target).sum().item()\n",
        "        total_predictions += target.size(0)\n",
        "\n",
        "    end_time = time.time()\n",
        "    running_loss /= len(train_loader)\n",
        "    train_accuracy = 100 * correct_predictions / total_predictions\n",
        "\n",
        "    print('Training Loss: ', running_loss, 'Time: ', end_time - start_time, 's', 'Accuracy: ', train_accuracy, '%')\n",
        "    return running_loss, train_accuracy"
      ]
    },
    {
      "cell_type": "markdown",
      "source": [
        "Training the model for `numner_of_epochs` times and printing loss and accuracy of each epoch"
      ],
      "metadata": {
        "id": "lmmU-z0xQ2di"
      }
    },
    {
      "cell_type": "code",
      "execution_count": null,
      "metadata": {
        "id": "Sq1KOMEeU8GJ",
        "colab": {
          "base_uri": "https://localhost:8080/"
        },
        "outputId": "8d48f7c5-b8ff-481f-c636-c10db98f1efb"
      },
      "outputs": [
        {
          "output_type": "stream",
          "name": "stdout",
          "text": [
            "Epoch  1\n",
            "Training Loss:  0.6628999801782461 Time:  0.03783273696899414 s Accuracy:  53.625 %\n",
            "Epoch  2\n",
            "Training Loss:  0.5730035717670734 Time:  0.043019771575927734 s Accuracy:  67.375 %\n",
            "Epoch  3\n",
            "Training Loss:  0.4755038068844722 Time:  0.05800437927246094 s Accuracy:  76.5 %\n",
            "Epoch  4\n",
            "Training Loss:  0.387682712995089 Time:  0.03883218765258789 s Accuracy:  84.75 %\n",
            "Epoch  5\n",
            "Training Loss:  0.31921255130034226 Time:  0.03849530220031738 s Accuracy:  89.125 %\n",
            "Epoch  6\n",
            "Training Loss:  0.26028971947156465 Time:  0.03649330139160156 s Accuracy:  91.625 %\n",
            "Epoch  7\n",
            "Training Loss:  0.21450194831077868 Time:  0.03403925895690918 s Accuracy:  94.0 %\n",
            "Epoch  8\n",
            "Training Loss:  0.18172777616060698 Time:  0.0336461067199707 s Accuracy:  95.25 %\n",
            "Epoch  9\n",
            "Training Loss:  0.1530183582351758 Time:  0.03923296928405762 s Accuracy:  96.875 %\n",
            "Epoch  10\n",
            "Training Loss:  0.13401384479724443 Time:  0.03661084175109863 s Accuracy:  97.125 %\n",
            "time: 432 ms (started: 2025-01-18 15:43:42 +00:00)\n"
          ]
        }
      ],
      "source": [
        "%%script echo skipping\n",
        "numner_of_epochs = 10\n",
        "\n",
        "train_losses = []\n",
        "train_accu = []\n",
        "\n",
        "for epoch in range(numner_of_epochs):\n",
        "  print('Epoch ', epoch + 1)\n",
        "  train_epoch_loss, train_epoch_accuracy = train_epoch(model, train_loader, loss, optimizer)\n",
        "  train_losses.append(train_epoch_loss)\n",
        "  train_accu.append(train_epoch_accuracy)\n"
      ]
    },
    {
      "cell_type": "markdown",
      "metadata": {
        "collapsed": false,
        "id": "bkNYD1oRU8GK"
      },
      "source": [
        "#### Loss and Accuracy Visualization"
      ]
    },
    {
      "cell_type": "markdown",
      "metadata": {
        "id": "GoQ3ZVRVcwBq"
      },
      "source": [
        "##### Loss during training"
      ]
    },
    {
      "cell_type": "code",
      "execution_count": null,
      "metadata": {
        "id": "iM8si3EBU8GK",
        "colab": {
          "base_uri": "https://localhost:8080/",
          "height": 471
        },
        "outputId": "15c54ea5-183d-428a-d3f3-4c6c7221bb45"
      },
      "outputs": [
        {
          "output_type": "display_data",
          "data": {
            "text/plain": [
              "<Figure size 640x480 with 1 Axes>"
            ],
            "image/png": "[encoded data removed]"
          },
          "metadata": {}
        },
        {
          "output_type": "stream",
          "name": "stdout",
          "text": [
            "time: 194 ms (started: 2025-01-18 15:43:43 +00:00)\n"
          ]
        }
      ],
      "source": [
        "%%script echo skipping\n",
        "plt.plot(train_losses, label='Train Loss',color='green')\n",
        "plt.xlabel('Epoch')\n",
        "plt.ylabel('Loss')\n",
        "plt.legend()\n",
        "for i in range(0, len(train_losses)):\n",
        "    acc = train_losses[i]\n",
        "    plt.plot(i, acc, 'o', color='red')\n",
        "    plt.text(i, acc + 0.01, f'{acc:.2f}%', ha='center', va='bottom',color='black')\n",
        "plt.show()"
      ]
    },
    {
      "cell_type": "markdown",
      "metadata": {
        "id": "LTQwR458f2cT"
      },
      "source": [
        "##### Accuracy during training"
      ]
    },
    {
      "cell_type": "code",
      "execution_count": null,
      "metadata": {
        "id": "hOCsxuuTU8GK",
        "colab": {
          "base_uri": "https://localhost:8080/",
          "height": 486
        },
        "outputId": "433d833a-d1cc-45e3-b187-4c3d9361acdb"
      },
      "outputs": [
        {
          "output_type": "display_data",
          "data": {
            "text/plain": [
              "<Figure size 640x480 with 1 Axes>"
            ],
            "image/png": "[encoded data removed]"
          },
          "metadata": {}
        },
        {
          "output_type": "stream",
          "name": "stdout",
          "text": [
            "Training accuracy: 97.125 %\n",
            "time: 268 ms (started: 2025-01-18 15:43:43 +00:00)\n"
          ]
        }
      ],
      "source": [
        "%%script echo skipping\n",
        "plt.plot(train_accu, label='Training Accuracy',color='blue')\n",
        "plt.xlabel('Epoch')\n",
        "plt.ylabel('Accuracy')\n",
        "plt.legend()\n",
        "for i in range(0, len(train_accu)):\n",
        "    acc = train_accu[i]\n",
        "    plt.plot(i, acc, 'o', color='red')\n",
        "    plt.text(i, acc + 0.01, f'{acc:.1f}%', ha='center', va='bottom',color='black')\n",
        "plt.show()\n",
        "print(f\"Training accuracy: {train_accu[-1]} %\")"
      ]
    },
    {
      "cell_type": "markdown",
      "metadata": {
        "collapsed": false,
        "id": "SAUlD1ypU8GL"
      },
      "source": [
        "### Testing\n"
      ]
    },
    {
      "cell_type": "code",
      "execution_count": null,
      "metadata": {
        "id": "nOFJGq15gfCl",
        "colab": {
          "base_uri": "https://localhost:8080/"
        },
        "outputId": "642ae963-46ba-4d8c-cec0-62b46d69ae6c"
      },
      "outputs": [
        {
          "output_type": "stream",
          "name": "stdout",
          "text": [
            "time: 1.18 ms (started: 2025-01-18 15:43:43 +00:00)\n"
          ]
        }
      ],
      "source": [
        "%%script echo skipping\n",
        "from sklearn.metrics import accuracy_score\n",
        "\n",
        "def test_model(model, test_loader, criterion):\n",
        "    with torch.no_grad():\n",
        "        model.eval()\n",
        "        running_loss = 0.0\n",
        "        correct_predictions = 0\n",
        "        total_predictions = 0\n",
        "        all_predictions = []\n",
        "\n",
        "        for batch_idx, (data, target) in enumerate(test_loader):\n",
        "            target = target.view(-1, 1).float()\n",
        "            outputs = model(data)\n",
        "            loss = criterion(outputs, target)\n",
        "            running_loss += loss.item()\n",
        "\n",
        "            # Calculate accuracy and store predictions for this batch\n",
        "            predicted = (outputs > 0.5).float()\n",
        "            correct_predictions += (predicted == target).sum().item()\n",
        "            total_predictions += target.size(0)\n",
        "            all_predictions.append(predicted.cpu().numpy())\n",
        "\n",
        "        running_loss /= len(test_loader)\n",
        "        test_accuracy = 100 * correct_predictions / total_predictions\n",
        "        all_predictions = np.concatenate(all_predictions)\n",
        "\n",
        "        print('Testing Loss:', running_loss, ', Accuracy:',\n",
        "              accuracy_score(y_test, all_predictions)*100, '%')\n",
        "        return running_loss, test_accuracy, all_predictions"
      ]
    },
    {
      "cell_type": "markdown",
      "source": [
        "#### Testing the model and printing loss and accuracy"
      ],
      "metadata": {
        "id": "i2mGBwENRQOM"
      }
    },
    {
      "cell_type": "code",
      "execution_count": null,
      "metadata": {
        "id": "xCxjixT4g3JV",
        "colab": {
          "base_uri": "https://localhost:8080/"
        },
        "outputId": "2fe870c3-cce3-4a29-d764-79f3e9cdbd62"
      },
      "outputs": [
        {
          "output_type": "stream",
          "name": "stdout",
          "text": [
            "Testing Loss: 0.17282816767692566 , Accuracy: 93.0 %\n",
            "time: 19.9 ms (started: 2025-01-18 15:43:43 +00:00)\n"
          ]
        }
      ],
      "source": [
        "%%script echo skipping\n",
        "test_loss, test_accuracy, y_pred = test_model(model, test_loader, loss)"
      ]
    },
    {
      "cell_type": "markdown",
      "metadata": {
        "collapsed": false,
        "id": "ClevveJ3U8GL"
      },
      "source": [
        "#### Model Evaluation - Confusion Matrix\n"
      ]
    },
    {
      "cell_type": "code",
      "execution_count": null,
      "metadata": {
        "id": "DLXDxwV8dtbS",
        "colab": {
          "base_uri": "https://localhost:8080/",
          "height": 490
        },
        "outputId": "d2c468ad-fc49-4fb7-9f45-bcedb41ccfcb"
      },
      "outputs": [
        {
          "output_type": "display_data",
          "data": {
            "text/plain": [
              "<Figure size 640x480 with 2 Axes>"
            ],
            "image/png": "[encoded data removed]"
          },
          "metadata": {}
        },
        {
          "output_type": "stream",
          "name": "stdout",
          "text": [
            "time: 219 ms (started: 2025-01-18 15:43:43 +00:00)\n"
          ]
        }
      ],
      "source": [
        "%%script echo skipping\n",
        "\n",
        "from sklearn.metrics import confusion_matrix, ConfusionMatrixDisplay\n",
        "import itertools\n",
        "\n",
        "cm = confusion_matrix(y_test, y_pred)\n",
        "cm_display = ConfusionMatrixDisplay(confusion_matrix=cm, display_labels=classes)\n",
        "\n",
        "cm_display.plot(cmap=plt.cm.Blues)\n",
        "plt.title(f'Accuracy: {test_accuracy:.1f}%')\n",
        "plt.show()"
      ]
    },
    {
      "cell_type": "markdown",
      "metadata": {
        "id": "s6_ug9JLjmM8"
      },
      "source": [
        "---\n",
        "<br>\n",
        "\n",
        "\n",
        "# Neural Network with PyTorch part 2 (Multiclass Classification)"
      ]
    },
    {
      "cell_type": "markdown",
      "metadata": {
        "id": "Dn9kBnoOkJ7B"
      },
      "source": [
        "## Import Libraries"
      ]
    },
    {
      "cell_type": "code",
      "execution_count": null,
      "metadata": {
        "id": "0L5QXTC5kK9F",
        "colab": {
          "base_uri": "https://localhost:8080/"
        },
        "outputId": "ba5f0811-3493-4948-993f-8c051dcfb3bc"
      },
      "outputs": [
        {
          "output_type": "stream",
          "name": "stdout",
          "text": [
            "time: 3.12 s (started: 2025-01-18 15:43:44 +00:00)\n"
          ]
        }
      ],
      "source": [
        "%%capture\n",
        "!pip install ipython-autotime\n",
        "import torch\n",
        "from sklearn.model_selection import train_test_split\n",
        "import matplotlib.pyplot as plt\n",
        "import numpy as np\n",
        "%load_ext autotime"
      ]
    },
    {
      "cell_type": "markdown",
      "metadata": {
        "id": "pcLzuIa3kOQ_"
      },
      "source": [
        "## Load Dataset"
      ]
    },
    {
      "cell_type": "code",
      "execution_count": null,
      "metadata": {
        "id": "B0z91q_6kUPh",
        "colab": {
          "base_uri": "https://localhost:8080/"
        },
        "outputId": "096b0214-fe43-462f-d43c-65423c8ccab0"
      },
      "outputs": [
        {
          "output_type": "stream",
          "name": "stdout",
          "text": [
            "Dataset shape: (5000, 784)\n",
            "Labels shape: (5000,)\n",
            "time: 62.4 ms (started: 2025-01-18 15:43:47 +00:00)\n"
          ]
        }
      ],
      "source": [
        "%%script echo skipping\n",
        "\n",
        "loaded_data = np.load('/content/dataset_labels.npz')\n",
        "X, y = loaded_data['dataset'], loaded_data['labels']\n",
        "print(f'Dataset shape: {X.shape}\\nLabels shape: {y.shape}')"
      ]
    },
    {
      "cell_type": "markdown",
      "source": [
        "## Data preprocessing"
      ],
      "metadata": {
        "id": "1UZBA3f-TDmc"
      }
    },
    {
      "cell_type": "markdown",
      "source": [
        "### Feature scaling"
      ],
      "metadata": {
        "id": "9u933m0sSW8B"
      }
    },
    {
      "cell_type": "code",
      "execution_count": null,
      "metadata": {
        "id": "MSFmTuYH-PYj",
        "colab": {
          "base_uri": "https://localhost:8080/"
        },
        "outputId": "6145c3ce-6b3d-43cc-c369-4ffd8827845d"
      },
      "outputs": [
        {
          "output_type": "execute_result",
          "data": {
            "text/plain": [
              "{'0', '1', '2', '3', '4', '5', '6', '7', '8', '9'}"
            ]
          },
          "metadata": {},
          "execution_count": 106
        },
        {
          "output_type": "stream",
          "name": "stdout",
          "text": [
            "time: 10.9 ms (started: 2025-01-18 15:43:47 +00:00)\n"
          ]
        }
      ],
      "source": [
        "%%script echo skipping\n",
        "\n",
        "X = X / 255\n",
        "classes = set(y)\n",
        "classes"
      ]
    },
    {
      "cell_type": "markdown",
      "source": [
        "### Preprocessing the data"
      ],
      "metadata": {
        "id": "emBnxyLLTRnC"
      }
    },
    {
      "cell_type": "markdown",
      "source": [
        "Splitting the data into Train set, Validation set and Test set"
      ],
      "metadata": {
        "id": "FoP_8AYMR0sk"
      }
    },
    {
      "cell_type": "code",
      "execution_count": null,
      "metadata": {
        "id": "1Cw0_ntl_Fcu",
        "colab": {
          "base_uri": "https://localhost:8080/"
        },
        "outputId": "6b9ab11f-77c0-45d5-c641-7dac00429012"
      },
      "outputs": [
        {
          "output_type": "stream",
          "name": "stdout",
          "text": [
            "X_train shape: (3000, 784), y_train shape: (3000,)\n",
            "X_val shape: (1000, 784), y_val shape: (1000,)\n",
            "X_test shape: (1000, 784), y_test shape: (1000,)\n",
            "tensor([0, 1, 2, 3, 4, 5, 6, 7, 8, 9], device='cuda:0')\n",
            "tensor([0, 1, 2, 3, 4, 5, 6, 7, 8, 9], device='cuda:0')\n",
            "tensor([0, 1, 2, 3, 4, 5, 6, 7, 8, 9], device='cuda:0')\n",
            "time: 75.1 ms (started: 2025-01-18 15:43:47 +00:00)\n"
          ]
        }
      ],
      "source": [
        "%%script echo skipping\n",
        "\n",
        "from torch.utils.data import DataLoader, RandomSampler, TensorDataset\n",
        "from sklearn.model_selection import train_test_split\n",
        "from sklearn.preprocessing import LabelEncoder\n",
        "\n",
        "# Split the data into train and test\n",
        "X_train, X_test, y_train, y_test = train_test_split(X, y, test_size=0.2, random_state=42, stratify=y)\n",
        "\n",
        "# Split X_train into train and validation sets\n",
        "X_train, X_val, y_train, y_val = train_test_split(\n",
        "    X_train, y_train, test_size=0.25,\n",
        "    random_state=42, stratify=y_train)  # 0.25 x 0.8 = 0.2 of the original data\n",
        "\n",
        "print(f\"X_train shape: {X_train.shape}, y_train shape: {y_train.shape}\")\n",
        "print(f\"X_val shape: {X_val.shape}, y_val shape: {y_val.shape}\")\n",
        "print(f\"X_test shape: {X_test.shape}, y_test shape: {y_test.shape}\")\n",
        "\n",
        "# Encode string labels to integers\n",
        "label_encoder = LabelEncoder()\n",
        "y_train_encoded = label_encoder.fit_transform(y_train)\n",
        "y_val_encoded = label_encoder.transform(y_val)\n",
        "y_test_encoded = label_encoder.transform(y_test)\n",
        "\n",
        "device = torch.device('cuda' if torch.cuda.is_available() else 'cpu')\n",
        "X_train_tensor = torch.tensor(X_train, dtype=torch.float32).to(device)\n",
        "X_val_tensor = torch.tensor(X_val, dtype=torch.float32).to(device)\n",
        "X_test_tensor = torch.tensor(X_test, dtype=torch.float32).to(device)\n",
        "\n",
        "y_train_tensor = torch.tensor(y_train_encoded, dtype=torch.long).to(device)\n",
        "y_val_tensor = torch.tensor(y_val_encoded, dtype=torch.long).to(device)\n",
        "y_test_tensor = torch.tensor(y_test_encoded, dtype=torch.long).to(device)\n",
        "\n",
        "print(y_train_tensor.unique())\n",
        "print(y_val_tensor.unique())\n",
        "print(y_test_tensor.unique())\n"
      ]
    },
    {
      "cell_type": "markdown",
      "source": [
        "Creating dataloaders with `batch_size=64`"
      ],
      "metadata": {
        "id": "Vw9r-yn-R_Uu"
      }
    },
    {
      "cell_type": "code",
      "execution_count": null,
      "metadata": {
        "id": "uiDpA-3zAEwK",
        "colab": {
          "base_uri": "https://localhost:8080/"
        },
        "outputId": "7b1961d0-d351-452d-91d3-e3ee793fc40a"
      },
      "outputs": [
        {
          "output_type": "stream",
          "name": "stdout",
          "text": [
            "Data preparation complete.\n",
            "time: 1.78 ms (started: 2025-01-18 15:43:47 +00:00)\n"
          ]
        }
      ],
      "source": [
        "%%script echo skipping\n",
        "\n",
        "# Create DataLoaders\n",
        "train_dataset = TensorDataset(X_train_tensor, y_train_tensor)\n",
        "train_sampler = RandomSampler(train_dataset)\n",
        "train_loader = DataLoader(train_dataset, sampler=train_sampler, batch_size=64)\n",
        "\n",
        "val_dataset = TensorDataset(X_val_tensor, y_val_tensor)\n",
        "val_loader = DataLoader(val_dataset, batch_size=64)\n",
        "\n",
        "test_dataset = TensorDataset(X_test_tensor, y_test_tensor)\n",
        "test_loader = DataLoader(test_dataset, batch_size=64)\n",
        "\n",
        "\n",
        "print(\"Data preparation complete.\")"
      ]
    },
    {
      "cell_type": "markdown",
      "metadata": {
        "id": "xMTvB9TolhcG"
      },
      "source": [
        "## Models"
      ]
    },
    {
      "cell_type": "markdown",
      "metadata": {
        "id": "rOqJ_9CGk3h9"
      },
      "source": [
        "### Base Model"
      ]
    },
    {
      "cell_type": "code",
      "execution_count": null,
      "metadata": {
        "id": "UTIMQOxvAltJ",
        "colab": {
          "base_uri": "https://localhost:8080/"
        },
        "outputId": "6b97b8ca-1382-4932-a312-f4d968ebec81"
      },
      "outputs": [
        {
          "output_type": "stream",
          "name": "stdout",
          "text": [
            "time: 789 µs (started: 2025-01-18 15:43:47 +00:00)\n"
          ]
        }
      ],
      "source": [
        "%%script echo skipping\n",
        "\n",
        "class Base_Model(nn.Module):\n",
        "    def __init__(self, size_list):\n",
        "        super(Base_Model, self).__init__()\n",
        "        layers = []\n",
        "        self.size_list = size_list\n",
        "        for i in range(len(size_list) - 2):\n",
        "            layers.append(nn.Linear(size_list[i], size_list[i+1]))\n",
        "            layers.append(nn.ReLU())\n",
        "        layers.append(nn.Linear(size_list[-2], size_list[-1]))\n",
        "        self.net = nn.Sequential(*layers)\n",
        "\n",
        "    def forward(self, x):\n",
        "        return self.net(x)"
      ]
    },
    {
      "cell_type": "markdown",
      "source": [
        "#### Train epoch function"
      ],
      "metadata": {
        "id": "kQR5rekd6nmY"
      }
    },
    {
      "cell_type": "code",
      "execution_count": null,
      "metadata": {
        "id": "1KZZ0pwgBWW7",
        "colab": {
          "base_uri": "https://localhost:8080/"
        },
        "outputId": "b961cb0d-8a9b-4259-d2cf-2338e235fc64"
      },
      "outputs": [
        {
          "output_type": "stream",
          "name": "stdout",
          "text": [
            "time: 1.05 ms (started: 2025-01-18 15:43:47 +00:00)\n"
          ]
        }
      ],
      "source": [
        "%%script echo skipping\n",
        "\n",
        "from sklearn.metrics import accuracy_score, classification_report\n",
        "def train_epoch(model, train_loader, criterion, optimizer):\n",
        "    model.train()\n",
        "    running_loss = 0.0\n",
        "    start_time = time.time()\n",
        "    all_preds = []\n",
        "    all_labels = []\n",
        "\n",
        "    for batch_idx, (data, target) in enumerate(train_loader):\n",
        "        optimizer.zero_grad()\n",
        "        outputs = model(data)\n",
        "        loss = criterion(outputs, target)\n",
        "        running_loss += loss.item()\n",
        "        loss.backward()\n",
        "        optimizer.step()\n",
        "\n",
        "        #  Calculate accuracy for this batch\n",
        "        _, predicted = torch.max(outputs, 1)\n",
        "        all_preds.extend(predicted.cpu().numpy())\n",
        "        all_labels.extend(target.cpu().numpy())\n",
        "\n",
        "    end_time = time.time()\n",
        "    running_loss /= len(train_loader)\n",
        "    train_acc = accuracy_score(all_labels, all_preds)\n",
        "\n",
        "    print('Time: ', end_time - start_time, 's')\n",
        "    print('Training Loss: ', running_loss)\n",
        "    print(f\"Train Accuracy Score: {(train_acc * 100)}\")\n",
        "    return running_loss, train_acc"
      ]
    },
    {
      "cell_type": "markdown",
      "source": [
        "#### Validation function"
      ],
      "metadata": {
        "id": "4P5f7gvD6sCq"
      }
    },
    {
      "cell_type": "code",
      "execution_count": null,
      "metadata": {
        "id": "_Cnu9ut_BRMP",
        "colab": {
          "base_uri": "https://localhost:8080/"
        },
        "outputId": "424ee05f-12f1-4b22-9911-ef10382bfa2d"
      },
      "outputs": [
        {
          "output_type": "stream",
          "name": "stdout",
          "text": [
            "time: 1.76 ms (started: 2025-01-18 15:43:47 +00:00)\n"
          ]
        }
      ],
      "source": [
        "%%script echo skipping\n",
        "\n",
        "from sklearn.metrics import accuracy_score, classification_report\n",
        "def val_model(model, val_loader, criterion):\n",
        "    with torch.no_grad():\n",
        "        model.eval()\n",
        "        running_loss = 0.0\n",
        "        total_predictions = 0\n",
        "        correct_predictions = 0\n",
        "        all_preds = []\n",
        "        all_labels = []\n",
        "        for batch_idx, (data, target) in enumerate(val_loader):\n",
        "            outputs = model(data)\n",
        "            _, predicted = torch.max(outputs, 1)\n",
        "            # for the accuracy and clasification report\n",
        "            all_preds.extend(predicted.cpu().numpy())\n",
        "            all_labels.extend(target.cpu().numpy())\n",
        "\n",
        "            loss = criterion(outputs, target)\n",
        "            running_loss += loss.item()\n",
        "\n",
        "        running_loss /= len(val_loader)\n",
        "        test_acc = accuracy_score(all_labels, all_preds)\n",
        "\n",
        "        print('Validation Loss: ', running_loss)\n",
        "        print(f\"Validation Accuracy Score: {(test_acc * 100)}\")\n",
        "\n",
        "        return running_loss, test_acc"
      ]
    },
    {
      "cell_type": "markdown",
      "source": [
        "####Train and validation function"
      ],
      "metadata": {
        "id": "7Lfw1Id86xg-"
      }
    },
    {
      "cell_type": "code",
      "execution_count": null,
      "metadata": {
        "id": "HPifDKd2X_ny",
        "colab": {
          "base_uri": "https://localhost:8080/"
        },
        "outputId": "17da89bc-ac75-4311-cbdc-2e88da0e9d2a"
      },
      "outputs": [
        {
          "output_type": "stream",
          "name": "stdout",
          "text": [
            "time: 1.47 ms (started: 2025-01-18 15:43:47 +00:00)\n"
          ]
        }
      ],
      "source": [
        "%%script echo skipping\n",
        "\n",
        "def train_and_evaluate(model, train_loader, val_loader, criterion, optimizer, n_epochs=10):\n",
        "    # Initialize lists to store the results\n",
        "    Train_loss = []\n",
        "    Train_accuracy = []\n",
        "    Val_loss = []\n",
        "    Val_accuracy = []\n",
        "\n",
        "    for epoch in range(n_epochs):\n",
        "        print(f'\\nEpoch: {epoch + 1}/{n_epochs}')\n",
        "\n",
        "        # Train for one epoch\n",
        "        train_loss, train_accuracy = train_epoch(model, train_loader, criterion, optimizer)\n",
        "\n",
        "        val_loss, val_accuracy = val_model(model, val_loader, criterion)\n",
        "\n",
        "        # Append the results for tracking\n",
        "        Train_loss.append(train_loss)\n",
        "        Train_accuracy.append(train_accuracy)\n",
        "        Val_loss.append(val_loss)\n",
        "        Val_accuracy.append(val_accuracy)\n",
        "\n",
        "    return Train_loss, Train_accuracy, Val_loss, Val_accuracy"
      ]
    },
    {
      "cell_type": "markdown",
      "source": [
        "#### Test function"
      ],
      "metadata": {
        "id": "rTSRnfUI6_60"
      }
    },
    {
      "cell_type": "code",
      "source": [
        "%%script echo skipping\n",
        "\n",
        "def prediction (model, test_loader):\n",
        "    model.eval()\n",
        "    all_preds = []\n",
        "    all_labels = []\n",
        "    with torch.no_grad():\n",
        "        for batch_idx, (data, target) in enumerate(test_loader):\n",
        "            outputs = model(data)\n",
        "            _, predicted = torch.max(outputs, 1)\n",
        "            all_preds.extend(predicted.cpu().numpy())\n",
        "            all_labels.extend(target.cpu().numpy())\n",
        "    return all_preds, all_labels"
      ],
      "metadata": {
        "id": "O1-8GCypYD59",
        "colab": {
          "base_uri": "https://localhost:8080/"
        },
        "outputId": "f83f8b52-70a1-425d-a3d0-ee7c75b79965"
      },
      "execution_count": null,
      "outputs": [
        {
          "output_type": "stream",
          "name": "stdout",
          "text": [
            "time: 5.32 ms (started: 2025-01-18 15:43:47 +00:00)\n"
          ]
        }
      ]
    },
    {
      "cell_type": "markdown",
      "source": [
        "####Plot function"
      ],
      "metadata": {
        "id": "fWqQU2Wa7G55"
      }
    },
    {
      "cell_type": "code",
      "execution_count": null,
      "metadata": {
        "id": "xQcqJKPsYlLH",
        "colab": {
          "base_uri": "https://localhost:8080/"
        },
        "outputId": "02cfd89a-8dac-44c7-e0a5-854068a26601"
      },
      "outputs": [
        {
          "output_type": "stream",
          "name": "stdout",
          "text": [
            "time: 9.78 ms (started: 2025-01-18 15:43:47 +00:00)\n"
          ]
        }
      ],
      "source": [
        "%%script echo skipping\n",
        "\n",
        "def plot_results(Train_loss, Val_loss, Train_accuracy, Val_accuracy):\n",
        "    # Create a figure with two subplots\n",
        "    plt.figure(figsize=(12, 6))\n",
        "\n",
        "    # Plot training and testing loss\n",
        "    plt.subplot(1, 2, 1)\n",
        "    plt.plot(Train_loss, label='Training Loss', color='blue')\n",
        "    plt.plot(Val_loss, label='Validation Loss', color='red')\n",
        "    plt.xlabel('Epochs')\n",
        "    plt.ylabel('Loss')\n",
        "    plt.title('Training vs Valditaion Loss')\n",
        "    plt.legend()\n",
        "\n",
        "    # Plot training and testing accuracy\n",
        "    plt.subplot(1, 2, 2)\n",
        "    plt.plot(Train_accuracy, label='Training Accuracy', color='blue')\n",
        "    plt.plot(Val_accuracy, label='Validation Accuracy', color='red')\n",
        "    plt.xlabel('Epochs')\n",
        "    plt.ylabel('Accuracy (%)')\n",
        "    plt.title('Training vs Validation Accuracy')\n",
        "    plt.legend()\n",
        "\n",
        "    plt.tight_layout()\n",
        "    plt.show()"
      ]
    },
    {
      "cell_type": "markdown",
      "source": [
        "Defining Base Model, loss function, optimizer"
      ],
      "metadata": {
        "id": "1yL0C5Cc7NuA"
      }
    },
    {
      "cell_type": "code",
      "execution_count": null,
      "metadata": {
        "id": "-LaIaxPnAw7d",
        "colab": {
          "base_uri": "https://localhost:8080/"
        },
        "outputId": "5554d89f-d766-4acb-9de7-5a5fb1cd4220"
      },
      "outputs": [
        {
          "output_type": "execute_result",
          "data": {
            "text/plain": [
              "Base_Model(\n",
              "  (net): Sequential(\n",
              "    (0): Linear(in_features=784, out_features=10, bias=True)\n",
              "  )\n",
              ")"
            ]
          },
          "metadata": {},
          "execution_count": 115
        },
        {
          "output_type": "stream",
          "name": "stdout",
          "text": [
            "time: 40.8 ms (started: 2025-01-18 15:43:47 +00:00)\n"
          ]
        }
      ],
      "source": [
        "%%script echo skipping\n",
        "\n",
        "model = Base_Model([28*28, 10]).to(device)\n",
        "criterion = nn.CrossEntropyLoss()\n",
        "base_optimizer = optim.Adam(model.parameters())\n",
        "model"
      ]
    },
    {
      "cell_type": "markdown",
      "source": [
        "####Training phase"
      ],
      "metadata": {
        "id": "Bq_UhL1m7VUC"
      }
    },
    {
      "cell_type": "code",
      "execution_count": null,
      "metadata": {
        "id": "z0Pyy177YDac",
        "colab": {
          "base_uri": "https://localhost:8080/"
        },
        "outputId": "d66158f2-9f99-4b73-bb1e-a5a3784fecb7"
      },
      "outputs": [
        {
          "output_type": "stream",
          "name": "stdout",
          "text": [
            "\n",
            "Epoch: 1/10\n",
            "Time:  0.1593494415283203 s\n",
            "Training Loss:  2.012496925414877\n",
            "Train Accuracy Score: 43.166666666666664\n",
            "Validation Loss:  1.745728962123394\n",
            "Validation Accuracy Score: 56.00000000000001\n",
            "\n",
            "Epoch: 2/10\n",
            "Time:  0.12595319747924805 s\n",
            "Training Loss:  1.5664547301353293\n",
            "Train Accuracy Score: 66.3\n",
            "Validation Loss:  1.4175036624073982\n",
            "Validation Accuracy Score: 72.6\n",
            "\n",
            "Epoch: 3/10\n",
            "Time:  0.12987804412841797 s\n",
            "Training Loss:  1.2945721453808723\n",
            "Train Accuracy Score: 76.76666666666667\n",
            "Validation Loss:  1.2126892730593681\n",
            "Validation Accuracy Score: 77.7\n",
            "\n",
            "Epoch: 4/10\n",
            "Time:  0.1124722957611084 s\n",
            "Training Loss:  1.1174851960324226\n",
            "Train Accuracy Score: 80.5\n",
            "Validation Loss:  1.0736501291394234\n",
            "Validation Accuracy Score: 80.2\n",
            "\n",
            "Epoch: 5/10\n",
            "Time:  0.09835386276245117 s\n",
            "Training Loss:  0.9888173176887187\n",
            "Train Accuracy Score: 84.16666666666667\n",
            "Validation Loss:  0.9630910456180573\n",
            "Validation Accuracy Score: 84.3\n",
            "\n",
            "Epoch: 6/10\n",
            "Time:  0.13013362884521484 s\n",
            "Training Loss:  0.8880978733935254\n",
            "Train Accuracy Score: 85.7\n",
            "Validation Loss:  0.8853185884654522\n",
            "Validation Accuracy Score: 83.6\n",
            "\n",
            "Epoch: 7/10\n",
            "Time:  0.12215018272399902 s\n",
            "Training Loss:  0.81180240372394\n",
            "Train Accuracy Score: 86.63333333333333\n",
            "Validation Loss:  0.8115492947399616\n",
            "Validation Accuracy Score: 85.1\n",
            "\n",
            "Epoch: 8/10\n",
            "Time:  0.09772658348083496 s\n",
            "Training Loss:  0.7464764980559654\n",
            "Train Accuracy Score: 87.96666666666667\n",
            "Validation Loss:  0.7533608265221119\n",
            "Validation Accuracy Score: 87.8\n",
            "\n",
            "Epoch: 9/10\n",
            "Time:  0.09611392021179199 s\n",
            "Training Loss:  0.6950813290920663\n",
            "Train Accuracy Score: 89.0\n",
            "Validation Loss:  0.7067585177719593\n",
            "Validation Accuracy Score: 88.1\n",
            "\n",
            "Epoch: 10/10\n",
            "Time:  0.09770870208740234 s\n",
            "Training Loss:  0.6493998429876693\n",
            "Train Accuracy Score: 89.4\n",
            "Validation Loss:  0.6649977080523968\n",
            "Validation Accuracy Score: 88.6\n",
            "time: 1.44 s (started: 2025-01-18 15:43:47 +00:00)\n"
          ]
        }
      ],
      "source": [
        "%%script echo skipping\n",
        "\n",
        "# Base model results\n",
        "Train_loss, Train_accuracy, Val_loss, Val_accuracy = train_and_evaluate(model, train_loader, val_loader, criterion, base_optimizer, n_epochs=10)"
      ]
    },
    {
      "cell_type": "code",
      "execution_count": null,
      "metadata": {
        "id": "1hhLhtciYqpB",
        "colab": {
          "base_uri": "https://localhost:8080/",
          "height": 625
        },
        "outputId": "3674bf8c-4499-4467-c868-76a1fc5b0f13"
      },
      "outputs": [
        {
          "output_type": "display_data",
          "data": {
            "text/plain": [
              "<Figure size 1200x600 with 2 Axes>"
            ],
            "image/png": "[encoded data removed]"
          },
          "metadata": {}
        },
        {
          "output_type": "stream",
          "name": "stdout",
          "text": [
            "time: 614 ms (started: 2025-01-18 15:43:49 +00:00)\n"
          ]
        }
      ],
      "source": [
        "%%script echo skipping\n",
        "\n",
        "# Base model plot acc and loss\n",
        "plot_results(Train_loss, Val_loss, Train_accuracy, Val_accuracy)"
      ]
    },
    {
      "cell_type": "markdown",
      "source": [
        "####Testing phase"
      ],
      "metadata": {
        "id": "0b9ZFHYr7dGQ"
      }
    },
    {
      "cell_type": "code",
      "source": [
        "%%script echo skipping\n",
        "\n",
        "# Prediction classification report\n",
        "y_pred, y_test = prediction(model, test_loader)\n",
        "report = classification_report(y_test, y_pred)\n",
        "print(report)"
      ],
      "metadata": {
        "id": "SEcf7jZVZ_6A",
        "colab": {
          "base_uri": "https://localhost:8080/"
        },
        "outputId": "753669b1-83a6-4766-d8c7-354ff62fe77f"
      },
      "execution_count": null,
      "outputs": [
        {
          "output_type": "stream",
          "name": "stdout",
          "text": [
            "              precision    recall  f1-score   support\n",
            "\n",
            "           0       0.99      0.98      0.98       100\n",
            "           1       0.98      0.97      0.97       100\n",
            "           2       0.93      0.87      0.90       100\n",
            "           3       0.92      0.88      0.90       100\n",
            "           4       0.82      0.77      0.79       100\n",
            "           5       0.91      0.95      0.93       100\n",
            "           6       0.78      0.88      0.83       100\n",
            "           7       0.73      0.79      0.76       100\n",
            "           8       0.95      0.79      0.86       100\n",
            "           9       0.89      0.98      0.93       100\n",
            "\n",
            "    accuracy                           0.89      1000\n",
            "   macro avg       0.89      0.89      0.89      1000\n",
            "weighted avg       0.89      0.89      0.89      1000\n",
            "\n",
            "time: 39 ms (started: 2025-01-18 15:43:49 +00:00)\n"
          ]
        }
      ]
    },
    {
      "cell_type": "markdown",
      "metadata": {
        "id": "eKieQwhOlA3m"
      },
      "source": [
        "### Experiment number 1"
      ]
    },
    {
      "cell_type": "markdown",
      "source": [
        "Defining Experiment 1 model, loss function, optimizer\n",
        "\n",
        "---\n",
        "\n",
        "For experiment 1 we added a hidden layer, while keeping the same CrossEntropyLoss and Adam."
      ],
      "metadata": {
        "id": "MUZP3vOy09cR"
      }
    },
    {
      "cell_type": "code",
      "execution_count": null,
      "metadata": {
        "id": "UjedCd4daY3G",
        "colab": {
          "base_uri": "https://localhost:8080/"
        },
        "outputId": "b9f912b2-6059-40bb-917a-52f3d2461b0c"
      },
      "outputs": [
        {
          "output_type": "execute_result",
          "data": {
            "text/plain": [
              "Base_Model(\n",
              "  (net): Sequential(\n",
              "    (0): Linear(in_features=784, out_features=64, bias=True)\n",
              "    (1): ReLU()\n",
              "    (2): Linear(in_features=64, out_features=10, bias=True)\n",
              "  )\n",
              ")"
            ]
          },
          "metadata": {},
          "execution_count": 119
        },
        {
          "output_type": "stream",
          "name": "stdout",
          "text": [
            "time: 4.5 ms (started: 2025-01-18 15:43:49 +00:00)\n"
          ]
        }
      ],
      "source": [
        "%%script echo skipping\n",
        "\n",
        "# Adding hiden layer with size 32\n",
        "model_one = Base_Model([28*28, 64, 10]).to(device)\n",
        "criterion = nn.CrossEntropyLoss()\n",
        "optimizer_one = optim.Adam(model_one.parameters())\n",
        "model_one"
      ]
    },
    {
      "cell_type": "markdown",
      "source": [
        "####Training phase"
      ],
      "metadata": {
        "id": "vw108xXv1NfL"
      }
    },
    {
      "cell_type": "code",
      "execution_count": null,
      "metadata": {
        "id": "6vLmlFZFalFj",
        "colab": {
          "base_uri": "https://localhost:8080/"
        },
        "outputId": "ed3a8f10-6725-4eb0-bfa5-98fbcea6873c"
      },
      "outputs": [
        {
          "output_type": "stream",
          "name": "stdout",
          "text": [
            "\n",
            "Epoch: 1/10\n",
            "Time:  0.1519622802734375 s\n",
            "Training Loss:  1.9670767226117722\n",
            "Train Accuracy Score: 43.93333333333334\n",
            "Validation Loss:  1.5896492153406143\n",
            "Validation Accuracy Score: 68.4\n",
            "\n",
            "Epoch: 2/10\n",
            "Time:  0.13486027717590332 s\n",
            "Training Loss:  1.3074559201585485\n",
            "Train Accuracy Score: 73.3\n",
            "Validation Loss:  1.0737630166113377\n",
            "Validation Accuracy Score: 79.0\n",
            "\n",
            "Epoch: 3/10\n",
            "Time:  0.11450552940368652 s\n",
            "Training Loss:  0.9013750020493853\n",
            "Train Accuracy Score: 82.73333333333333\n",
            "Validation Loss:  0.7800646722316742\n",
            "Validation Accuracy Score: 84.89999999999999\n",
            "\n",
            "Epoch: 4/10\n",
            "Time:  0.1624746322631836 s\n",
            "Training Loss:  0.6626142415594547\n",
            "Train Accuracy Score: 88.23333333333333\n",
            "Validation Loss:  0.5983528979122639\n",
            "Validation Accuracy Score: 88.5\n",
            "\n",
            "Epoch: 5/10\n",
            "Time:  0.2321009635925293 s\n",
            "Training Loss:  0.5170026865411312\n",
            "Train Accuracy Score: 91.06666666666666\n",
            "Validation Loss:  0.493092717602849\n",
            "Validation Accuracy Score: 90.0\n",
            "\n",
            "Epoch: 6/10\n",
            "Time:  0.161576509475708 s\n",
            "Training Loss:  0.41683498310281875\n",
            "Train Accuracy Score: 93.43333333333334\n",
            "Validation Loss:  0.4055595099925995\n",
            "Validation Accuracy Score: 91.60000000000001\n",
            "\n",
            "Epoch: 7/10\n",
            "Time:  0.17136669158935547 s\n",
            "Training Loss:  0.34570562363939084\n",
            "Train Accuracy Score: 94.03333333333333\n",
            "Validation Loss:  0.3447600118815899\n",
            "Validation Accuracy Score: 93.2\n",
            "\n",
            "Epoch: 8/10\n",
            "Time:  0.3419783115386963 s\n",
            "Training Loss:  0.2982226296308193\n",
            "Train Accuracy Score: 95.19999999999999\n",
            "Validation Loss:  0.3096009436994791\n",
            "Validation Accuracy Score: 93.60000000000001\n",
            "\n",
            "Epoch: 9/10\n",
            "Time:  0.33447265625 s\n",
            "Training Loss:  0.258221816509328\n",
            "Train Accuracy Score: 95.66666666666667\n",
            "Validation Loss:  0.279870773665607\n",
            "Validation Accuracy Score: 93.2\n",
            "\n",
            "Epoch: 10/10\n",
            "Time:  0.3445558547973633 s\n",
            "Training Loss:  0.2239810640507556\n",
            "Train Accuracy Score: 96.16666666666667\n",
            "Validation Loss:  0.24485994037240744\n",
            "Validation Accuracy Score: 95.0\n",
            "time: 2.67 s (started: 2025-01-18 15:43:49 +00:00)\n"
          ]
        }
      ],
      "source": [
        "%%script echo skipping\n",
        "\n",
        "Train_loss, Train_accuracy, Val_loss, Val_accuracy = train_and_evaluate(model_one, train_loader, val_loader, criterion, optimizer_one, n_epochs=10)"
      ]
    },
    {
      "cell_type": "markdown",
      "source": [
        "Plotting train vs validation"
      ],
      "metadata": {
        "id": "7r-Ofi9U1X83"
      }
    },
    {
      "cell_type": "code",
      "execution_count": null,
      "metadata": {
        "id": "IqRQtAhbdPDc",
        "colab": {
          "base_uri": "https://localhost:8080/",
          "height": 625
        },
        "outputId": "294a73b8-a857-4009-95d1-465d08a1ebf2"
      },
      "outputs": [
        {
          "output_type": "display_data",
          "data": {
            "text/plain": [
              "<Figure size 1200x600 with 2 Axes>"
            ],
            "image/png": "[encoded data removed]"
          },
          "metadata": {}
        },
        {
          "output_type": "stream",
          "name": "stdout",
          "text": [
            "time: 1.29 s (started: 2025-01-18 15:43:52 +00:00)\n"
          ]
        }
      ],
      "source": [
        "%%script echo skipping\n",
        "\n",
        "plot_results(Train_loss, Val_loss, Train_accuracy, Val_accuracy)"
      ]
    },
    {
      "cell_type": "markdown",
      "source": [
        "#### Testing phase"
      ],
      "metadata": {
        "id": "soX_1rUT8IL3"
      }
    },
    {
      "cell_type": "markdown",
      "source": [
        "Printing a `classification_report`"
      ],
      "metadata": {
        "id": "16cOPVG51dt5"
      }
    },
    {
      "cell_type": "code",
      "source": [
        "%%script echo skipping\n",
        "\n",
        "y_pred, y_test = prediction(model_one, test_loader)\n",
        "report = classification_report(y_test, y_pred)\n",
        "print(report)"
      ],
      "metadata": {
        "id": "euRHeHl9cU2U",
        "colab": {
          "base_uri": "https://localhost:8080/"
        },
        "outputId": "9485108c-6a83-4ab5-b671-0cdb32b0d2d7"
      },
      "execution_count": null,
      "outputs": [
        {
          "output_type": "stream",
          "name": "stdout",
          "text": [
            "              precision    recall  f1-score   support\n",
            "\n",
            "           0       1.00      1.00      1.00       100\n",
            "           1       1.00      0.99      0.99       100\n",
            "           2       0.97      0.97      0.97       100\n",
            "           3       0.98      0.90      0.94       100\n",
            "           4       0.91      0.90      0.90       100\n",
            "           5       0.95      0.99      0.97       100\n",
            "           6       0.92      0.92      0.92       100\n",
            "           7       0.86      0.94      0.90       100\n",
            "           8       0.99      0.89      0.94       100\n",
            "           9       0.93      1.00      0.97       100\n",
            "\n",
            "    accuracy                           0.95      1000\n",
            "   macro avg       0.95      0.95      0.95      1000\n",
            "weighted avg       0.95      0.95      0.95      1000\n",
            "\n",
            "time: 94.4 ms (started: 2025-01-18 15:43:53 +00:00)\n"
          ]
        }
      ]
    },
    {
      "cell_type": "markdown",
      "metadata": {
        "id": "SK-L3P-XlDSQ"
      },
      "source": [
        "### Experiment number 2"
      ]
    },
    {
      "cell_type": "markdown",
      "source": [
        "Defining Experiment 2 model, loss function, optimizer\n",
        "\n",
        "---\n",
        "\n",
        "In experiment 2 we chose `Base_Model` to be the base of the experiment.\n",
        "This time we changed the `batch_size` and `lr`"
      ],
      "metadata": {
        "id": "Tai51OvA1kKW"
      }
    },
    {
      "cell_type": "markdown",
      "source": [
        "#### Data loader"
      ],
      "metadata": {
        "id": "8elnsKLM858x"
      }
    },
    {
      "cell_type": "code",
      "source": [
        "%%script echo skipping\n",
        "\n",
        "# Create DataLoaders with different batch size for experiment 2.\n",
        "train_dataset = TensorDataset(X_train_tensor, y_train_tensor)\n",
        "train_sampler = RandomSampler(train_dataset)\n",
        "train_loader = DataLoader(train_dataset, sampler=train_sampler, batch_size=128)\n",
        "\n",
        "val_dataset = TensorDataset(X_val_tensor, y_val_tensor)\n",
        "val_loader = DataLoader(val_dataset, batch_size=128)\n",
        "\n",
        "test_dataset = TensorDataset(X_test_tensor, y_test_tensor)\n",
        "test_loader = DataLoader(test_dataset, batch_size=128)\n",
        "\n",
        "print(\"Data preparation complete.\")"
      ],
      "metadata": {
        "id": "BX0QF6lGdYvS",
        "colab": {
          "base_uri": "https://localhost:8080/"
        },
        "outputId": "0426f52e-1120-4d7c-c43f-d83d7cfc16e8"
      },
      "execution_count": null,
      "outputs": [
        {
          "output_type": "stream",
          "name": "stdout",
          "text": [
            "Data preparation complete.\n",
            "time: 1.12 ms (started: 2025-01-18 15:43:54 +00:00)\n"
          ]
        }
      ]
    },
    {
      "cell_type": "markdown",
      "source": [
        "Defining Experiment 2 model, loss function, optimizer"
      ],
      "metadata": {
        "id": "Mfpna8qi9Fkh"
      }
    },
    {
      "cell_type": "code",
      "execution_count": null,
      "metadata": {
        "id": "7PefS_0gdWL_",
        "colab": {
          "base_uri": "https://localhost:8080/"
        },
        "outputId": "1e9e4feb-a777-4f53-bb11-315d274872f4"
      },
      "outputs": [
        {
          "output_type": "execute_result",
          "data": {
            "text/plain": [
              "Base_Model(\n",
              "  (net): Sequential(\n",
              "    (0): Linear(in_features=784, out_features=64, bias=True)\n",
              "    (1): ReLU()\n",
              "    (2): Linear(in_features=64, out_features=10, bias=True)\n",
              "  )\n",
              ")"
            ]
          },
          "metadata": {},
          "execution_count": 124
        },
        {
          "output_type": "stream",
          "name": "stdout",
          "text": [
            "time: 10.9 ms (started: 2025-01-18 15:43:54 +00:00)\n"
          ]
        }
      ],
      "source": [
        "%%script echo skipping\n",
        "\n",
        "# different learning rate for experiment 2.\n",
        "model_two = Base_Model([28*28,64, 10]).to(device)\n",
        "criterion = nn.CrossEntropyLoss()\n",
        "optimizer_two = optim.Adam(model_two.parameters(), lr=0.003)\n",
        "model_two"
      ]
    },
    {
      "cell_type": "markdown",
      "source": [
        "####Training phase"
      ],
      "metadata": {
        "id": "Apsx8QLI2jH-"
      }
    },
    {
      "cell_type": "code",
      "source": [
        "%%script echo skipping\n",
        "\n",
        "Train_loss, Train_accuracy, Val_loss, Val_accuracy = train_and_evaluate(model_two, train_loader, val_loader, criterion, optimizer_two, n_epochs=10)"
      ],
      "metadata": {
        "id": "dtUyNqZMeNiS",
        "colab": {
          "base_uri": "https://localhost:8080/"
        },
        "outputId": "9ea5357c-b07a-4247-fa8d-a4a679829fca"
      },
      "execution_count": null,
      "outputs": [
        {
          "output_type": "stream",
          "name": "stdout",
          "text": [
            "\n",
            "Epoch: 1/10\n",
            "Time:  0.30382370948791504 s\n",
            "Training Loss:  1.9188293367624283\n",
            "Train Accuracy Score: 38.1\n",
            "Validation Loss:  1.4224407374858856\n",
            "Validation Accuracy Score: 65.10000000000001\n",
            "\n",
            "Epoch: 2/10\n",
            "Time:  0.20416688919067383 s\n",
            "Training Loss:  1.0987973709901173\n",
            "Train Accuracy Score: 74.5\n",
            "Validation Loss:  0.8500021547079086\n",
            "Validation Accuracy Score: 78.0\n",
            "\n",
            "Epoch: 3/10\n",
            "Time:  0.1906130313873291 s\n",
            "Training Loss:  0.6647528087099394\n",
            "Train Accuracy Score: 85.06666666666666\n",
            "Validation Loss:  0.5590449832379818\n",
            "Validation Accuracy Score: 87.9\n",
            "\n",
            "Epoch: 4/10\n",
            "Time:  0.09240865707397461 s\n",
            "Training Loss:  0.45605173458655673\n",
            "Train Accuracy Score: 91.23333333333333\n",
            "Validation Loss:  0.4110831953585148\n",
            "Validation Accuracy Score: 91.5\n",
            "\n",
            "Epoch: 5/10\n",
            "Time:  0.12396430969238281 s\n",
            "Training Loss:  0.3389554023742676\n",
            "Train Accuracy Score: 93.56666666666666\n",
            "Validation Loss:  0.324365571141243\n",
            "Validation Accuracy Score: 92.5\n",
            "\n",
            "Epoch: 6/10\n",
            "Time:  0.12679028511047363 s\n",
            "Training Loss:  0.26333692980309326\n",
            "Train Accuracy Score: 95.53333333333333\n",
            "Validation Loss:  0.27934905514121056\n",
            "Validation Accuracy Score: 93.10000000000001\n",
            "\n",
            "Epoch: 7/10\n",
            "Time:  0.10868096351623535 s\n",
            "Training Loss:  0.2230079552779595\n",
            "Train Accuracy Score: 95.89999999999999\n",
            "Validation Loss:  0.23380102775990963\n",
            "Validation Accuracy Score: 95.19999999999999\n",
            "\n",
            "Epoch: 8/10\n",
            "Time:  0.21088409423828125 s\n",
            "Training Loss:  0.18088367643455663\n",
            "Train Accuracy Score: 96.93333333333334\n",
            "Validation Loss:  0.20457535609602928\n",
            "Validation Accuracy Score: 95.5\n",
            "\n",
            "Epoch: 9/10\n",
            "Time:  0.19420409202575684 s\n",
            "Training Loss:  0.15316641454895338\n",
            "Train Accuracy Score: 97.43333333333334\n",
            "Validation Loss:  0.17975120898336172\n",
            "Validation Accuracy Score: 96.0\n",
            "\n",
            "Epoch: 10/10\n",
            "Time:  0.11983489990234375 s\n",
            "Training Loss:  0.13210529492547116\n",
            "Train Accuracy Score: 97.66666666666667\n",
            "Validation Loss:  0.15731630194932222\n",
            "Validation Accuracy Score: 97.3\n",
            "time: 2.1 s (started: 2025-01-18 15:43:54 +00:00)\n"
          ]
        }
      ]
    },
    {
      "cell_type": "markdown",
      "source": [
        "Plotting train vs validation"
      ],
      "metadata": {
        "id": "ACatFdTY2sZR"
      }
    },
    {
      "cell_type": "code",
      "source": [
        "%%script echo skipping\n",
        "\n",
        "plot_results(Train_loss, Val_loss, Train_accuracy, Val_accuracy)"
      ],
      "metadata": {
        "id": "rqZwdq6Gecev",
        "colab": {
          "base_uri": "https://localhost:8080/",
          "height": 625
        },
        "outputId": "0a85d683-bb86-4232-b9b5-78f8153de277"
      },
      "execution_count": null,
      "outputs": [
        {
          "output_type": "display_data",
          "data": {
            "text/plain": [
              "<Figure size 1200x600 with 2 Axes>"
            ],
            "image/png": "[encoded data removed]"
          },
          "metadata": {}
        },
        {
          "output_type": "stream",
          "name": "stdout",
          "text": [
            "time: 730 ms (started: 2025-01-18 15:43:56 +00:00)\n"
          ]
        }
      ]
    },
    {
      "cell_type": "markdown",
      "source": [
        "#### Training phase\n",
        "Printing a `classification_report`"
      ],
      "metadata": {
        "id": "59z-0bZZ2xEE"
      }
    },
    {
      "cell_type": "code",
      "source": [
        "%%script echo skipping\n",
        "\n",
        "y_pred, y_test = prediction(model_two, test_loader)\n",
        "report = classification_report(y_test, y_pred)\n",
        "print(report)"
      ],
      "metadata": {
        "id": "3bfgBM7EeoN7",
        "colab": {
          "base_uri": "https://localhost:8080/"
        },
        "outputId": "8e02615c-1bce-496a-c70d-cb1659687b88"
      },
      "execution_count": null,
      "outputs": [
        {
          "output_type": "stream",
          "name": "stdout",
          "text": [
            "              precision    recall  f1-score   support\n",
            "\n",
            "           0       0.99      1.00      1.00       100\n",
            "           1       1.00      0.99      0.99       100\n",
            "           2       0.99      0.98      0.98       100\n",
            "           3       0.99      0.94      0.96       100\n",
            "           4       0.95      0.91      0.93       100\n",
            "           5       0.94      0.99      0.97       100\n",
            "           6       0.94      0.94      0.94       100\n",
            "           7       0.91      0.96      0.93       100\n",
            "           8       0.99      0.96      0.97       100\n",
            "           9       0.98      1.00      0.99       100\n",
            "\n",
            "    accuracy                           0.97      1000\n",
            "   macro avg       0.97      0.97      0.97      1000\n",
            "weighted avg       0.97      0.97      0.97      1000\n",
            "\n",
            "time: 36.8 ms (started: 2025-01-18 15:43:56 +00:00)\n"
          ]
        }
      ]
    },
    {
      "cell_type": "code",
      "source": [
        "%%script echo skipping\n",
        "\n",
        "end=time.time()\n",
        "print(\"total running time: \", end-start)"
      ],
      "metadata": {
        "colab": {
          "base_uri": "https://localhost:8080/"
        },
        "id": "5a593YNOwevC",
        "outputId": "1b14a022-d1dc-437b-c754-085148f620da"
      },
      "execution_count": null,
      "outputs": [
        {
          "output_type": "stream",
          "name": "stdout",
          "text": [
            "total running time:  23.987732648849487\n",
            "time: 3.45 ms (started: 2025-01-18 15:43:56 +00:00)\n"
          ]
        }
      ]
    },
    {
      "cell_type": "markdown",
      "metadata": {
        "id": "zS3_ZnXk450S"
      },
      "source": [
        "### Save Trained model\n",
        "\n",
        "\n"
      ]
    },
    {
      "cell_type": "code",
      "execution_count": null,
      "metadata": {
        "id": "Pb66kyHa5c-l",
        "colab": {
          "base_uri": "https://localhost:8080/"
        },
        "outputId": "b1c281e7-d192-4d3c-ea9c-34185a750923"
      },
      "outputs": [
        {
          "output_type": "stream",
          "name": "stdout",
          "text": [
            "time: 20.4 ms (started: 2025-01-18 15:43:56 +00:00)\n"
          ]
        }
      ],
      "source": [
        "%%script echo skipping\n",
        "\n",
        "# We chose MODEL 2 - with hidden layers.\n",
        "torch.save(model_two, 'chosen_model.pth')"
      ]
    },
    {
      "cell_type": "markdown",
      "metadata": {
        "id": "L0xlxiaj6xM4"
      },
      "source": [
        "## Test Environment (of part 2 only)"
      ]
    },
    {
      "cell_type": "markdown",
      "source": [
        "### Downloading the model from the student's drive"
      ],
      "metadata": {
        "id": "kgFq2Pk2tksV"
      }
    },
    {
      "cell_type": "markdown",
      "source": [
        "Please run this code block to import libraries"
      ],
      "metadata": {
        "id": "8GTmyc5YOucN"
      }
    },
    {
      "cell_type": "code",
      "source": [
        "import os\n",
        "os.environ['CUDA_LAUNCH_BLOCKING'] = '1'\n",
        "os.environ[\"TORCH_USE_CUDA_DSA\"] = 'TRUE'\n",
        "os.environ[\"KMP_DUPLICATE_LIB_OK\"]=\"TRUE\"\n",
        "\n",
        "import torch\n",
        "import matplotlib.pyplot as plt\n",
        "from sklearn.model_selection import train_test_split\n",
        "import numpy as np\n",
        "from torch import nn\n",
        "import torch.nn.functional as F\n",
        "import torch.optim as optim\n",
        "\n",
        "device = torch.device(\"cuda\" if torch.cuda.is_available() else \"cpu\")\n"
      ],
      "metadata": {
        "id": "q6zNMqg_sqMX"
      },
      "execution_count": 1,
      "outputs": []
    },
    {
      "cell_type": "markdown",
      "source": [
        "Please download the model"
      ],
      "metadata": {
        "id": "tCQt-uZW5IZg"
      }
    },
    {
      "cell_type": "code",
      "source": [
        "!gdown --id 1YyPuLs8_eZ4xdevcmRmdf_VVurPnLmvZ"
      ],
      "metadata": {
        "colab": {
          "base_uri": "https://localhost:8080/"
        },
        "id": "CeI0qW-D0fxe",
        "outputId": "90e05152-fa1f-4d97-a56c-0770fa792a24"
      },
      "execution_count": 2,
      "outputs": [
        {
          "output_type": "stream",
          "name": "stdout",
          "text": [
            "/usr/local/lib/python3.11/dist-packages/gdown/__main__.py:140: FutureWarning: Option `--id` was deprecated in version 4.3.1 and will be removed in 5.0. You don't need to pass it anymore to use a file ID.\n",
            "  warnings.warn(\n",
            "Downloading...\n",
            "From: https://drive.google.com/uc?id=1YyPuLs8_eZ4xdevcmRmdf_VVurPnLmvZ\n",
            "To: /content/chosen_model.pth\n",
            "100% 207k/207k [00:00<00:00, 61.5MB/s]\n"
          ]
        }
      ]
    },
    {
      "cell_type": "markdown",
      "metadata": {
        "id": "-rMJ1ucy7lKB"
      },
      "source": [
        "### Load trained model"
      ]
    },
    {
      "cell_type": "code",
      "source": [
        "class Base_Model(nn.Module):\n",
        "    def __init__(self, size_list):\n",
        "        super(Base_Model, self).__init__()\n",
        "        layers = []\n",
        "        self.size_list = size_list\n",
        "        for i in range(len(size_list) - 2):\n",
        "            layers.append(nn.Linear(size_list[i], size_list[i+1]))\n",
        "            layers.append(nn.ReLU())\n",
        "        layers.append(nn.Linear(size_list[-2], size_list[-1]))\n",
        "        self.net = nn.Sequential(*layers)\n",
        "\n",
        "    def forward(self, x):\n",
        "        return self.net(x)"
      ],
      "metadata": {
        "id": "WjwK1puIyI93"
      },
      "execution_count": null,
      "outputs": []
    },
    {
      "cell_type": "code",
      "execution_count": null,
      "metadata": {
        "id": "I27yHolJ7naT",
        "colab": {
          "base_uri": "https://localhost:8080/"
        },
        "outputId": "f6bdc6cd-91d3-448b-9e16-571fa6b4596b"
      },
      "outputs": [
        {
          "output_type": "stream",
          "name": "stderr",
          "text": [
            "<ipython-input-41-80e3bd48b0dc>:2: FutureWarning: You are using `torch.load` with `weights_only=False` (the current default value), which uses the default pickle module implicitly. It is possible to construct malicious pickle data which will execute arbitrary code during unpickling (See https://github.com/pytorch/pytorch/blob/main/SECURITY.md#untrusted-models for more details). In a future release, the default value for `weights_only` will be flipped to `True`. This limits the functions that could be executed during unpickling. Arbitrary objects will no longer be allowed to be loaded via this mode unless they are explicitly allowlisted by the user via `torch.serialization.add_safe_globals`. We recommend you start setting `weights_only=True` for any use case where you don't have full control of the loaded file. Please open an issue on GitHub for any issues related to this experimental feature.\n",
            "  model = torch.load('chosen_model.pth')\n"
          ]
        },
        {
          "output_type": "execute_result",
          "data": {
            "text/plain": [
              "Base_Model(\n",
              "  (net): Sequential(\n",
              "    (0): Linear(in_features=784, out_features=64, bias=True)\n",
              "    (1): ReLU()\n",
              "    (2): Linear(in_features=64, out_features=10, bias=True)\n",
              "  )\n",
              ")"
            ]
          },
          "metadata": {},
          "execution_count": 41
        }
      ],
      "source": [
        "# LOAD THE TRAINED MODEL\n",
        "model = torch.load('chosen_model.pth')\n",
        "model.eval()"
      ]
    },
    {
      "cell_type": "markdown",
      "metadata": {
        "id": "5PSVr_J-_wmX"
      },
      "source": [
        "### Single prediction\n",
        "\n",
        "*Please browse the files you want to upload for evaluation*"
      ]
    },
    {
      "cell_type": "code",
      "source": [
        "\n",
        "from google.colab import files\n",
        "import numpy as np\n",
        "import matplotlib.pyplot as plt\n",
        "\n",
        "uploaded_files = files.upload()\n",
        "file_names = list(uploaded_files.keys())\n",
        "print(\"Uploaded files:\", file_names)\n",
        "\n",
        "for file_name in file_names:\n",
        "    input_data = np.load(file_name)\n",
        "    input_data = input_data.reshape(28, 28)\n",
        "    input_tensor = torch.tensor(input_data, dtype=torch.float32).to(device)\n",
        "    # Reshape to match the model's input\n",
        "    input_tensor = input_tensor.view(1, -1)\n",
        "    input_tensor = input_tensor / 255  # Normalize if necessary\n",
        "\n",
        "    with torch.no_grad():\n",
        "        output = model(input_tensor)\n",
        "        _, predicted = torch.max(output, 1)\n",
        "\n",
        "    # Print prediction results\n",
        "    print(f\"Selected file: {file_name}, Predicted class: {predicted.item()}\")\n",
        "\n",
        "    # Plot the image\n",
        "    plt.imshow(input_data)\n",
        "    plt.title(f\"Predicted class: {predicted.item()}\")\n",
        "    plt.show()\n"
      ],
      "metadata": {
        "id": "E7hJGCFfoJ2X",
        "colab": {
          "base_uri": "https://localhost:8080/",
          "height": 1000
        },
        "outputId": "94310dd1-d1f3-4646-92f8-325af557ebaf"
      },
      "execution_count": null,
      "outputs": [
        {
          "output_type": "display_data",
          "data": {
            "text/plain": [
              "<IPython.core.display.HTML object>"
            ],
            "text/html": [
              "\n",
              "     <input type=\"file\" id=\"files-1a8dc3bb-1f1d-4367-99a2-ebf6d5d10351\" name=\"files[]\" multiple disabled\n",
              "        style=\"border:none\" />\n",
              "     <output id=\"result-1a8dc3bb-1f1d-4367-99a2-ebf6d5d10351\">\n",
              "      Upload widget is only available when the cell has been executed in the\n",
              "      current browser session. Please rerun this cell to enable.\n",
              "      </output>\n",
              "      <script>// Copyright 2017 Google LLC\n",
              "//\n",
              "// Licensed under the Apache License, Version 2.0 (the \"License\");\n",
              "// you may not use this file except in compliance with the License.\n",
              "// You may obtain a copy of the License at\n",
              "//\n",
              "//      http://www.apache.org/licenses/LICENSE-2.0\n",
              "//\n",
              "// Unless required by applicable law or agreed to in writing, software\n",
              "// distributed under the License is distributed on an \"AS IS\" BASIS,\n",
              "// WITHOUT WARRANTIES OR CONDITIONS OF ANY KIND, either express or implied.\n",
              "// See the License for the specific language governing permissions and\n",
              "// limitations under the License.\n",
              "\n",
              "/**\n",
              " * @fileoverview Helpers for google.colab Python module.\n",
              " */\n",
              "(function(scope) {\n",
              "function span(text, styleAttributes = {}) {\n",
              "  const element = document.createElement('span');\n",
              "  element.textContent = text;\n",
              "  for (const key of Object.keys(styleAttributes)) {\n",
              "    element.style[key] = styleAttributes[key];\n",
              "  }\n",
              "  return element;\n",
              "}\n",
              "\n",
              "// Max number of bytes which will be uploaded at a time.\n",
              "const MAX_PAYLOAD_SIZE = 100 * 1024;\n",
              "\n",
              "function _uploadFiles(inputId, outputId) {\n",
              "  const steps = uploadFilesStep(inputId, outputId);\n",
              "  const outputElement = document.getElementById(outputId);\n",
              "  // Cache steps on the outputElement to make it available for the next call\n",
              "  // to uploadFilesContinue from Python.\n",
              "  outputElement.steps = steps;\n",
              "\n",
              "  return _uploadFilesContinue(outputId);\n",
              "}\n",
              "\n",
              "// This is roughly an async generator (not supported in the browser yet),\n",
              "// where there are multiple asynchronous steps and the Python side is going\n",
              "// to poll for completion of each step.\n",
              "// This uses a Promise to block the python side on completion of each step,\n",
              "// then passes the result of the previous step as the input to the next step.\n",
              "function _uploadFilesContinue(outputId) {\n",
              "  const outputElement = document.getElementById(outputId);\n",
              "  const steps = outputElement.steps;\n",
              "\n",
              "  const next = steps.next(outputElement.lastPromiseValue);\n",
              "  return Promise.resolve(next.value.promise).then((value) => {\n",
              "    // Cache the last promise value to make it available to the next\n",
              "    // step of the generator.\n",
              "    outputElement.lastPromiseValue = value;\n",
              "    return next.value.response;\n",
              "  });\n",
              "}\n",
              "\n",
              "/**\n",
              " * Generator function which is called between each async step of the upload\n",
              " * process.\n",
              " * @param {string} inputId Element ID of the input file picker element.\n",
              " * @param {string} outputId Element ID of the output display.\n",
              " * @return {!Iterable<!Object>} Iterable of next steps.\n",
              " */\n",
              "function* uploadFilesStep(inputId, outputId) {\n",
              "  const inputElement = document.getElementById(inputId);\n",
              "  inputElement.disabled = false;\n",
              "\n",
              "  const outputElement = document.getElementById(outputId);\n",
              "  outputElement.innerHTML = '';\n",
              "\n",
              "  const pickedPromise = new Promise((resolve) => {\n",
              "    inputElement.addEventListener('change', (e) => {\n",
              "      resolve(e.target.files);\n",
              "    });\n",
              "  });\n",
              "\n",
              "  const cancel = document.createElement('button');\n",
              "  inputElement.parentElement.appendChild(cancel);\n",
              "  cancel.textContent = 'Cancel upload';\n",
              "  const cancelPromise = new Promise((resolve) => {\n",
              "    cancel.onclick = () => {\n",
              "      resolve(null);\n",
              "    };\n",
              "  });\n",
              "\n",
              "  // Wait for the user to pick the files.\n",
              "  const files = yield {\n",
              "    promise: Promise.race([pickedPromise, cancelPromise]),\n",
              "    response: {\n",
              "      action: 'starting',\n",
              "    }\n",
              "  };\n",
              "\n",
              "  cancel.remove();\n",
              "\n",
              "  // Disable the input element since further picks are not allowed.\n",
              "  inputElement.disabled = true;\n",
              "\n",
              "  if (!files) {\n",
              "    return {\n",
              "      response: {\n",
              "        action: 'complete',\n",
              "      }\n",
              "    };\n",
              "  }\n",
              "\n",
              "  for (const file of files) {\n",
              "    const li = document.createElement('li');\n",
              "    li.append(span(file.name, {fontWeight: 'bold'}));\n",
              "    li.append(span(\n",
              "        `(${file.type || 'n/a'}) - ${file.size} bytes, ` +\n",
              "        `last modified: ${\n",
              "            file.lastModifiedDate ? file.lastModifiedDate.toLocaleDateString() :\n",
              "                                    'n/a'} - `));\n",
              "    const percent = span('0% done');\n",
              "    li.appendChild(percent);\n",
              "\n",
              "    outputElement.appendChild(li);\n",
              "\n",
              "    const fileDataPromise = new Promise((resolve) => {\n",
              "      const reader = new FileReader();\n",
              "      reader.onload = (e) => {\n",
              "        resolve(e.target.result);\n",
              "      };\n",
              "      reader.readAsArrayBuffer(file);\n",
              "    });\n",
              "    // Wait for the data to be ready.\n",
              "    let fileData = yield {\n",
              "      promise: fileDataPromise,\n",
              "      response: {\n",
              "        action: 'continue',\n",
              "      }\n",
              "    };\n",
              "\n",
              "    // Use a chunked sending to avoid message size limits. See b/62115660.\n",
              "    let position = 0;\n",
              "    do {\n",
              "      const length = Math.min(fileData.byteLength - position, MAX_PAYLOAD_SIZE);\n",
              "      const chunk = new Uint8Array(fileData, position, length);\n",
              "      position += length;\n",
              "\n",
              "      const base64 = btoa(String.fromCharCode.apply(null, chunk));\n",
              "      yield {\n",
              "        response: {\n",
              "          action: 'append',\n",
              "          file: file.name,\n",
              "          data: base64,\n",
              "        },\n",
              "      };\n",
              "\n",
              "      let percentDone = fileData.byteLength === 0 ?\n",
              "          100 :\n",
              "          Math.round((position / fileData.byteLength) * 100);\n",
              "      percent.textContent = `${percentDone}% done`;\n",
              "\n",
              "    } while (position < fileData.byteLength);\n",
              "  }\n",
              "\n",
              "  // All done.\n",
              "  yield {\n",
              "    response: {\n",
              "      action: 'complete',\n",
              "    }\n",
              "  };\n",
              "}\n",
              "\n",
              "scope.google = scope.google || {};\n",
              "scope.google.colab = scope.google.colab || {};\n",
              "scope.google.colab._files = {\n",
              "  _uploadFiles,\n",
              "  _uploadFilesContinue,\n",
              "};\n",
              "})(self);\n",
              "</script> "
            ]
          },
          "metadata": {}
        },
        {
          "output_type": "stream",
          "name": "stdout",
          "text": [
            "Saving 0_example.npy to 0_example.npy\n",
            "Saving 1_example.npy to 1_example.npy\n",
            "Saving 2_example.npy to 2_example.npy\n",
            "Saving 3_example.npy to 3_example.npy\n",
            "Saving 4_example.npy to 4_example.npy\n",
            "Saving 5_example.npy to 5_example.npy\n",
            "Saving 6_example.npy to 6_example.npy\n",
            "Saving 7_example.npy to 7_example.npy\n",
            "Saving 8_example.npy to 8_example.npy\n",
            "Saving 9_example.npy to 9_example.npy\n",
            "Uploaded files: ['0_example.npy', '1_example.npy', '2_example.npy', '3_example.npy', '4_example.npy', '5_example.npy', '6_example.npy', '7_example.npy', '8_example.npy', '9_example.npy']\n",
            "Selected file: 0_example.npy, Predicted class: 0\n"
          ]
        },
        {
          "output_type": "display_data",
          "data": {
            "text/plain": [
              "<Figure size 640x480 with 1 Axes>"
            ],
            "image/png": "[encoded data removed]"
          },
          "metadata": {}
        },
        {
          "output_type": "stream",
          "name": "stdout",
          "text": [
            "Selected file: 1_example.npy, Predicted class: 1\n"
          ]
        },
        {
          "output_type": "display_data",
          "data": {
            "text/plain": [
              "<Figure size 640x480 with 1 Axes>"
            ],
            "image/png": "[encoded data removed]"
          },
          "metadata": {}
        },
        {
          "output_type": "stream",
          "name": "stdout",
          "text": [
            "Selected file: 2_example.npy, Predicted class: 2\n"
          ]
        },
        {
          "output_type": "display_data",
          "data": {
            "text/plain": [
              "<Figure size 640x480 with 1 Axes>"
            ],
            "image/png": "[encoded data removed]"
          },
          "metadata": {}
        },
        {
          "output_type": "stream",
          "name": "stdout",
          "text": [
            "Selected file: 3_example.npy, Predicted class: 3\n"
          ]
        },
        {
          "output_type": "display_data",
          "data": {
            "text/plain": [
              "<Figure size 640x480 with 1 Axes>"
            ],
            "image/png": "[encoded data removed]"
          },
          "metadata": {}
        },
        {
          "output_type": "stream",
          "name": "stdout",
          "text": [
            "Selected file: 4_example.npy, Predicted class: 4\n"
          ]
        },
        {
          "output_type": "display_data",
          "data": {
            "text/plain": [
              "<Figure size 640x480 with 1 Axes>"
            ],
            "image/png": "[encoded data removed]"
          },
          "metadata": {}
        },
        {
          "output_type": "stream",
          "name": "stdout",
          "text": [
            "Selected file: 5_example.npy, Predicted class: 5\n"
          ]
        },
        {
          "output_type": "display_data",
          "data": {
            "text/plain": [
              "<Figure size 640x480 with 1 Axes>"
            ],
            "image/png": "[encoded data removed]"
          },
          "metadata": {}
        },
        {
          "output_type": "stream",
          "name": "stdout",
          "text": [
            "Selected file: 6_example.npy, Predicted class: 6\n"
          ]
        },
        {
          "output_type": "display_data",
          "data": {
            "text/plain": [
              "<Figure size 640x480 with 1 Axes>"
            ],
            "image/png": "[encoded data removed]"
          },
          "metadata": {}
        },
        {
          "output_type": "stream",
          "name": "stdout",
          "text": [
            "Selected file: 7_example.npy, Predicted class: 7\n"
          ]
        },
        {
          "output_type": "display_data",
          "data": {
            "text/plain": [
              "<Figure size 640x480 with 1 Axes>"
            ],
            "image/png": "[encoded data removed]"
          },
          "metadata": {}
        },
        {
          "output_type": "stream",
          "name": "stdout",
          "text": [
            "Selected file: 8_example.npy, Predicted class: 8\n"
          ]
        },
        {
          "output_type": "display_data",
          "data": {
            "text/plain": [
              "<Figure size 640x480 with 1 Axes>"
            ],
            "image/png": "[encoded data removed]"
          },
          "metadata": {}
        },
        {
          "output_type": "stream",
          "name": "stdout",
          "text": [
            "Selected file: 9_example.npy, Predicted class: 9\n"
          ]
        },
        {
          "output_type": "display_data",
          "data": {
            "text/plain": [
              "<Figure size 640x480 with 1 Axes>"
            ],
            "image/png": "[encoded data removed]"
          },
          "metadata": {}
        }
      ]
    }
  ],
  "metadata": {
    "colab": {
      "provenance": [],
      "gpuType": "T4",
      "toc_visible": true
    },
    "kernelspec": {
      "display_name": "Python 3",
      "name": "python3"
    },
    "language_info": {
      "name": "python"
    }
  },
  "nbformat": 4,
  "nbformat_minor": 0
}